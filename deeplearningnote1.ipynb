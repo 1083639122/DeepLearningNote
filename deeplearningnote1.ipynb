{
 "cells": [
  {
   "cell_type": "code",
   "execution_count": 2,
   "metadata": {
    "execution": {
     "iopub.execute_input": "2021-09-28T07:32:56.453546Z",
     "iopub.status.busy": "2021-09-28T07:32:56.453090Z",
     "iopub.status.idle": "2021-09-28T07:32:56.479777Z",
     "shell.execute_reply": "2021-09-28T07:32:56.479088Z",
     "shell.execute_reply.started": "2021-09-28T07:32:56.453451Z"
    }
   },
   "outputs": [],
   "source": [
    "import matplotlib.pyplot as plt\n",
    "import numpy as np"
   ]
  },
  {
   "cell_type": "markdown",
   "metadata": {},
   "source": [
    "**全部实验使用 MNIST 数据集**"
   ]
  },
  {
   "cell_type": "code",
   "execution_count": 3,
   "metadata": {
    "execution": {
     "iopub.execute_input": "2021-09-28T07:32:56.481291Z",
     "iopub.status.busy": "2021-09-28T07:32:56.480960Z",
     "iopub.status.idle": "2021-09-28T07:33:00.192355Z",
     "shell.execute_reply": "2021-09-28T07:33:00.191573Z",
     "shell.execute_reply.started": "2021-09-28T07:32:56.481265Z"
    }
   },
   "outputs": [
    {
     "name": "stdout",
     "output_type": "stream",
     "text": [
      "Downloading http://yann.lecun.com/exdb/mnist/train-images-idx3-ubyte.gz\n",
      "Downloading http://yann.lecun.com/exdb/mnist/train-images-idx3-ubyte.gz to ./data\\MNIST\\raw\\train-images-idx3-ubyte.gz\n"
     ]
    },
    {
     "name": "stderr",
     "output_type": "stream",
     "text": [
      "100.0%\n"
     ]
    },
    {
     "name": "stdout",
     "output_type": "stream",
     "text": [
      "Extracting ./data\\MNIST\\raw\\train-images-idx3-ubyte.gz to ./data\\MNIST\\raw\n",
      "\n",
      "Downloading http://yann.lecun.com/exdb/mnist/train-labels-idx1-ubyte.gz\n",
      "Downloading http://yann.lecun.com/exdb/mnist/train-labels-idx1-ubyte.gz to ./data\\MNIST\\raw\\train-labels-idx1-ubyte.gz\n"
     ]
    },
    {
     "name": "stderr",
     "output_type": "stream",
     "text": [
      "102.8%\n"
     ]
    },
    {
     "name": "stdout",
     "output_type": "stream",
     "text": [
      "Extracting ./data\\MNIST\\raw\\train-labels-idx1-ubyte.gz to ./data\\MNIST\\raw\n",
      "\n",
      "Downloading http://yann.lecun.com/exdb/mnist/t10k-images-idx3-ubyte.gz\n",
      "Downloading http://yann.lecun.com/exdb/mnist/t10k-images-idx3-ubyte.gz to ./data\\MNIST\\raw\\t10k-images-idx3-ubyte.gz\n"
     ]
    },
    {
     "name": "stderr",
     "output_type": "stream",
     "text": [
      "100.0%\n"
     ]
    },
    {
     "name": "stdout",
     "output_type": "stream",
     "text": [
      "Extracting ./data\\MNIST\\raw\\t10k-images-idx3-ubyte.gz to ./data\\MNIST\\raw\n",
      "\n",
      "Downloading http://yann.lecun.com/exdb/mnist/t10k-labels-idx1-ubyte.gz\n",
      "Downloading http://yann.lecun.com/exdb/mnist/t10k-labels-idx1-ubyte.gz to ./data\\MNIST\\raw\\t10k-labels-idx1-ubyte.gz\n"
     ]
    },
    {
     "name": "stderr",
     "output_type": "stream",
     "text": [
      "112.7%"
     ]
    },
    {
     "name": "stdout",
     "output_type": "stream",
     "text": [
      "Extracting ./data\\MNIST\\raw\\t10k-labels-idx1-ubyte.gz to ./data\\MNIST\\raw\n",
      "\n"
     ]
    },
    {
     "name": "stderr",
     "output_type": "stream",
     "text": [
      "\n",
      "D:\\Anaconda3\\lib\\site-packages\\torchvision\\datasets\\mnist.py:498: UserWarning: The given NumPy array is not writeable, and PyTorch does not support non-writeable tensors. This means you can write to the underlying (supposedly non-writeable) NumPy array using the tensor. You may want to copy the array to protect its data or make it writeable before converting it to a tensor. This type of warning will be suppressed for the rest of this program. (Triggered internally at  ..\\torch\\csrc\\utils\\tensor_numpy.cpp:180.)\n",
      "  return torch.from_numpy(parsed.astype(m[2], copy=False)).view(*s)\n"
     ]
    }
   ],
   "source": [
    "from torchvision.datasets import mnist # 导入 pytorch 内置的 mnist 数据\n",
    "train_set = mnist.MNIST('./data', train=True,  download=True) # 重新载入数据集，申明定义的数据变换\n",
    "test_set = mnist.MNIST('./data', train=False,  download=True)"
   ]
  },
  {
   "cell_type": "code",
   "execution_count": 4,
   "metadata": {
    "execution": {
     "iopub.execute_input": "2021-09-28T07:33:00.193744Z",
     "iopub.status.busy": "2021-09-28T07:33:00.193554Z",
     "iopub.status.idle": "2021-09-28T07:33:00.220390Z",
     "shell.execute_reply": "2021-09-28T07:33:00.219488Z",
     "shell.execute_reply.started": "2021-09-28T07:33:00.193721Z"
    }
   },
   "outputs": [
    {
     "name": "stdout",
     "output_type": "stream",
     "text": [
      "(<PIL.Image.Image image mode=L size=28x28 at 0x271174BC390>, 5)\n",
      "<PIL.Image.Image image mode=L size=28x28 at 0x271174BC208>\n",
      "<class 'PIL.Image.Image'>\n"
     ]
    },
    {
     "data": {
      "image/png": "[encoded data removed]",
      "text/plain": [
       "<PIL.Image.Image image mode=L size=28x28 at 0x271174BC358>"
      ]
     },
     "execution_count": 4,
     "metadata": {},
     "output_type": "execute_result"
    }
   ],
   "source": [
    "print(train_set[0])\n",
    "print(train_set[0][0])\n",
    "print(type(train_set[0][0]))\n",
    "train_set[0][0]"
   ]
  },
  {
   "cell_type": "markdown",
   "metadata": {},
   "source": [
    "可见数据是28✖28的灰度图片"
   ]
  },
  {
   "cell_type": "markdown",
   "metadata": {},
   "source": [
    "**CNN**"
   ]
  },
  {
   "cell_type": "code",
   "execution_count": 5,
   "metadata": {
    "execution": {
     "iopub.execute_input": "2021-09-28T07:33:00.223211Z",
     "iopub.status.busy": "2021-09-28T07:33:00.222897Z",
     "iopub.status.idle": "2021-09-28T07:33:00.226967Z",
     "shell.execute_reply": "2021-09-28T07:33:00.226093Z",
     "shell.execute_reply.started": "2021-09-28T07:33:00.223170Z"
    }
   },
   "outputs": [],
   "source": [
    "import torch\n",
    "from torch import nn\n",
    "from torch.autograd import Variable\n",
    "import torch.nn.functional as F"
   ]
  },
  {
   "cell_type": "markdown",
   "metadata": {},
   "source": [
    "1、卷积\n",
    "首先需要输入是一个 `torch.autograd.Variable()` 的类型，大小是 (batch, channel, H, W)，其中 batch 表示输入的一批数据的数目，第二个是输入的通道数，一般一张彩色的图片是 3，灰度图是 1，而卷积网络过程中的通道数比较大，会出现几十到几百的通道数，H 和 W 表示输入图片的高度和宽度，比如一个 batch 是 32 张图片，每张图片是 3 通道，高和宽分别是 50 和 100，那么输入的大小就是 (32, 3, 50, 100)"
   ]
  },
  {
   "cell_type": "markdown",
   "metadata": {},
   "source": [
    "经典的Mnist数据集为(28,28)的图片集"
   ]
  },
  {
   "cell_type": "code",
   "execution_count": 6,
   "metadata": {
    "execution": {
     "iopub.execute_input": "2021-09-28T07:33:00.229030Z",
     "iopub.status.busy": "2021-09-28T07:33:00.228473Z",
     "iopub.status.idle": "2021-09-28T07:33:00.462738Z",
     "shell.execute_reply": "2021-09-28T07:33:00.461908Z",
     "shell.execute_reply.started": "2021-09-28T07:33:00.228992Z"
    }
   },
   "outputs": [
    {
     "data": {
      "text/plain": [
       "<matplotlib.image.AxesImage at 0x2711e93ddd8>"
      ]
     },
     "execution_count": 6,
     "metadata": {},
     "output_type": "execute_result"
    },
    {
     "data": {
      "image/png": "[encoded data removed]",
      "text/plain": [
       "<Figure size 432x288 with 1 Axes>"
      ]
     },
     "metadata": {},
     "output_type": "display_data"
    }
   ],
   "source": [
    "im=train_set[2][0]\n",
    "plt.imshow(im, cmap='gray')"
   ]
  },
  {
   "cell_type": "markdown",
   "metadata": {},
   "source": [
    "显然这是4"
   ]
  },
  {
   "cell_type": "markdown",
   "metadata": {},
   "source": [
    "将图片矩阵转化为 pytorch tensor，并适配卷积输入的要求"
   ]
  },
  {
   "cell_type": "code",
   "execution_count": 7,
   "metadata": {
    "execution": {
     "iopub.execute_input": "2021-09-28T07:33:00.464586Z",
     "iopub.status.busy": "2021-09-28T07:33:00.463905Z",
     "iopub.status.idle": "2021-09-28T07:33:00.472740Z",
     "shell.execute_reply": "2021-09-28T07:33:00.471836Z",
     "shell.execute_reply.started": "2021-09-28T07:33:00.464551Z"
    }
   },
   "outputs": [
    {
     "data": {
      "text/plain": [
       "torch.Size([1, 1, 28, 28])"
      ]
     },
     "execution_count": 7,
     "metadata": {},
     "output_type": "execute_result"
    }
   ],
   "source": [
    "im=np.array(im)\n",
    "im = torch.from_numpy(im.reshape((1, 1, im.shape[0],im.shape[1])))\n",
    "im.shape"
   ]
  },
  {
   "cell_type": "code",
   "execution_count": 8,
   "metadata": {
    "execution": {
     "iopub.execute_input": "2021-09-28T07:33:00.474427Z",
     "iopub.status.busy": "2021-09-28T07:33:00.474213Z",
     "iopub.status.idle": "2021-09-28T07:33:00.514339Z",
     "shell.execute_reply": "2021-09-28T07:33:00.513556Z",
     "shell.execute_reply.started": "2021-09-28T07:33:00.474404Z"
    }
   },
   "outputs": [],
   "source": [
    "# 使用 nn.Conv2d\n",
    "conv1 = nn.Conv2d(1, 1, 3, bias=False) # 定义3*3的卷积模板\n",
    "\n",
    "sobel_kernel = np.array([[-1, -1, -1], [-1, 8, -1], [-1, -1, -1]], dtype='float32') # 定义轮廓检测sobel算子\n",
    "sobel_kernel = sobel_kernel.reshape((1, 1, 3, 3)) # 适配卷积的输入输出\n",
    "conv1.weight.data = torch.from_numpy(sobel_kernel) # 给卷积的 kernel 赋值\n",
    "\n",
    "edge1 = conv1(im.float())# 作用在图片上\n",
    "edge1 = edge1.data.squeeze().numpy() # 将输出转换为图片的格式"
   ]
  },
  {
   "cell_type": "markdown",
   "metadata": {},
   "source": [
    "从卷积后图片变小的情况来看，卷积采用的是丢弃法"
   ]
  },
  {
   "cell_type": "code",
   "execution_count": 9,
   "metadata": {
    "execution": {
     "iopub.execute_input": "2021-09-28T07:33:00.515713Z",
     "iopub.status.busy": "2021-09-28T07:33:00.515445Z",
     "iopub.status.idle": "2021-09-28T07:33:00.521260Z",
     "shell.execute_reply": "2021-09-28T07:33:00.520159Z",
     "shell.execute_reply.started": "2021-09-28T07:33:00.515686Z"
    }
   },
   "outputs": [
    {
     "data": {
      "text/plain": [
       "(26, 26)"
      ]
     },
     "execution_count": 9,
     "metadata": {},
     "output_type": "execute_result"
    }
   ],
   "source": [
    "edge1.shape"
   ]
  },
  {
   "cell_type": "markdown",
   "metadata": {},
   "source": [
    "可见边缘检测之后的结果"
   ]
  },
  {
   "cell_type": "code",
   "execution_count": 10,
   "metadata": {
    "execution": {
     "iopub.execute_input": "2021-09-28T07:33:00.523806Z",
     "iopub.status.busy": "2021-09-28T07:33:00.523539Z",
     "iopub.status.idle": "2021-09-28T07:33:00.721821Z",
     "shell.execute_reply": "2021-09-28T07:33:00.720880Z",
     "shell.execute_reply.started": "2021-09-28T07:33:00.523778Z"
    }
   },
   "outputs": [
    {
     "data": {
      "text/plain": [
       "<matplotlib.image.AxesImage at 0x2711e9d0630>"
      ]
     },
     "execution_count": 10,
     "metadata": {},
     "output_type": "execute_result"
    },
    {
     "data": {
      "image/png": "[encoded data removed]",
      "text/plain": [
       "<Figure size 432x288 with 1 Axes>"
      ]
     },
     "metadata": {},
     "output_type": "display_data"
    }
   ],
   "source": [
    "plt.imshow(edge1, cmap='gray')"
   ]
  },
  {
   "cell_type": "code",
   "execution_count": 11,
   "metadata": {
    "execution": {
     "iopub.execute_input": "2021-09-28T07:33:00.723055Z",
     "iopub.status.busy": "2021-09-28T07:33:00.722841Z",
     "iopub.status.idle": "2021-09-28T07:33:00.729072Z",
     "shell.execute_reply": "2021-09-28T07:33:00.728121Z",
     "shell.execute_reply.started": "2021-09-28T07:33:00.723029Z"
    }
   },
   "outputs": [
    {
     "data": {
      "text/plain": [
       "torch.Size([1, 1, 28, 28])"
      ]
     },
     "execution_count": 11,
     "metadata": {},
     "output_type": "execute_result"
    }
   ],
   "source": [
    "im.shape"
   ]
  },
  {
   "cell_type": "code",
   "execution_count": 12,
   "metadata": {
    "execution": {
     "iopub.execute_input": "2021-09-28T07:33:00.730168Z",
     "iopub.status.busy": "2021-09-28T07:33:00.729972Z",
     "iopub.status.idle": "2021-09-28T07:33:00.738912Z",
     "shell.execute_reply": "2021-09-28T07:33:00.738299Z",
     "shell.execute_reply.started": "2021-09-28T07:33:00.730146Z"
    }
   },
   "outputs": [],
   "source": [
    "im=im.float()"
   ]
  },
  {
   "cell_type": "markdown",
   "metadata": {},
   "source": [
    "2、池化层\n",
    "\n",
    "卷积网络中另外一个非常重要的结构就是池化，这是利用了图片的下采样不变性，即一张图片变小了还是能够看出了这张图片的内容，而使用池化层能够将图片大小降低，非常好地提高了计算效率，同时池化层也没有参数。池化的方式有很多种，比如最大值池化，均值池化等等，在卷积网络中一般使用最大值池化。"
   ]
  },
  {
   "cell_type": "code",
   "execution_count": 13,
   "metadata": {
    "execution": {
     "iopub.execute_input": "2021-09-28T07:33:00.740884Z",
     "iopub.status.busy": "2021-09-28T07:33:00.740092Z",
     "iopub.status.idle": "2021-09-28T07:33:00.759037Z",
     "shell.execute_reply": "2021-09-28T07:33:00.758270Z",
     "shell.execute_reply.started": "2021-09-28T07:33:00.740842Z"
    }
   },
   "outputs": [],
   "source": [
    "# 使用 nn.MaxPool2d\n",
    "pool1 = nn.MaxPool2d(2, 2)\n",
    "small_im1 = pool1(im)\n",
    "small_im1 = small_im1.data.squeeze().numpy()"
   ]
  },
  {
   "cell_type": "code",
   "execution_count": 14,
   "metadata": {
    "execution": {
     "iopub.execute_input": "2021-09-28T07:33:00.760852Z",
     "iopub.status.busy": "2021-09-28T07:33:00.760041Z",
     "iopub.status.idle": "2021-09-28T07:33:00.963970Z",
     "shell.execute_reply": "2021-09-28T07:33:00.963143Z",
     "shell.execute_reply.started": "2021-09-28T07:33:00.760812Z"
    }
   },
   "outputs": [
    {
     "data": {
      "text/plain": [
       "<matplotlib.image.AxesImage at 0x2711ea3b208>"
      ]
     },
     "execution_count": 14,
     "metadata": {},
     "output_type": "execute_result"
    },
    {
     "data": {
      "image/png": "[encoded data removed]",
      "text/plain": [
       "<Figure size 432x288 with 1 Axes>"
      ]
     },
     "metadata": {},
     "output_type": "display_data"
    }
   ],
   "source": [
    "plt.imshow(small_im1, cmap='gray')"
   ]
  },
  {
   "cell_type": "markdown",
   "metadata": {},
   "source": [
    "可以看到图片几乎没有变化，说明池化层只是减小了图片的尺寸，并不会影响图片的内容"
   ]
  },
  {
   "cell_type": "markdown",
   "metadata": {},
   "source": [
    "****"
   ]
  },
  {
   "cell_type": "markdown",
   "metadata": {},
   "source": [
    "> "
   ]
  },
  {
   "cell_type": "markdown",
   "metadata": {},
   "source": [
    "**在我们正式进入模型的构建和训练之前，对数据增加一些预处理，同时使用批标准化能够得到非常好的收敛结果，这也是卷积网络能够训练到非常深的层的一个重要原因。** "
   ]
  },
  {
   "cell_type": "markdown",
   "metadata": {},
   "source": [
    "在 2015 年一篇论文提出了这个方法，批标准化，简而言之，就是对于每一层网络的输出，对其做一个归一化，使其服从标准的正态分布，这样后一层网络的输入也是一个标准的正态分布，所以能够比较好的进行训练，加快收敛速度"
   ]
  },
  {
   "cell_type": "markdown",
   "metadata": {},
   "source": [
    "3、批标准化\n",
    "batch normalization 的实现非常简单，对于给定的一个 batch 的数据 $B = \\{x_1, x_2, \\cdots, x_m\\}$算法的公式如下\n",
    "​\n",
    "$$\n",
    "\\mu_B = \\frac{1}{m} \\sum_{i=1}^m x_i\n",
    "$$\n",
    "$$\n",
    "\\sigma^2_B = \\frac{1}{m} \\sum_{i=1}^m (x_i - \\mu_B)^2\n",
    "$$\n",
    "$$\n",
    "\\hat{x}_i = \\frac{x_i - \\mu_B}{\\sqrt{\\sigma^2_B + \\epsilon}}\n",
    "$$\n",
    "$$\n",
    "y_i = \\gamma \\hat{x}_i + \\beta\n",
    "$$\n",
    "第一行和第二行是计算出一个 batch 中数据的均值和方差，接着使用第三个公式对 batch 中的每个数据点做标准化，$\\epsilon$ 是为了计算稳定引入的一个小的常数，通常取 $10^{-5}$，最后利用权重修正得到最后的输出结果"
   ]
  },
  {
   "cell_type": "code",
   "execution_count": 15,
   "metadata": {
    "execution": {
     "iopub.execute_input": "2021-09-28T07:33:00.965232Z",
     "iopub.status.busy": "2021-09-28T07:33:00.965005Z",
     "iopub.status.idle": "2021-09-28T07:33:00.971920Z",
     "shell.execute_reply": "2021-09-28T07:33:00.971311Z",
     "shell.execute_reply.started": "2021-09-28T07:33:00.965204Z"
    }
   },
   "outputs": [],
   "source": [
    "# 批标准化方法\n",
    "def batch_norm_1d(x, gamma, beta, is_training, moving_mean, moving_var, moving_momentum=0.1):\n",
    "    eps = 1e-5\n",
    "    x_mean = torch.mean(x, dim=0, keepdim=True) # 保留维度进行 broadcast\n",
    "    x_var = torch.mean((x - x_mean) ** 2, dim=0, keepdim=True)\n",
    "    \n",
    "#     如果是训练集，则使用计算得出的均值和方差代入式子\n",
    "    if is_training:\n",
    "        x_hat = (x - x_mean) / torch.sqrt(x_var + eps)\n",
    "        \n",
    "#       算出移动平均均值和方差，与上一层输入的移动均值和方差和这层算出来的均值和方差有关\n",
    "        moving_mean[:] = moving_momentum * moving_mean + (1. - moving_momentum) * x_mean\n",
    "        moving_var[:] = moving_momentum * moving_var + (1. - moving_momentum) * x_var\n",
    "# 测试集直接使用之前训练集处理时算出来的均值和方差\n",
    "    else:\n",
    "        x_hat = (x - moving_mean) / torch.sqrt(moving_var + eps)\n",
    "    return gamma.view_as(x_mean) * x_hat + beta.view_as(x_mean)"
   ]
  },
  {
   "cell_type": "markdown",
   "metadata": {},
   "source": [
    "这里的 $\\gamma$ 和 $\\beta$ 都作为参数进行训练"
   ]
  },
  {
   "cell_type": "markdown",
   "metadata": {},
   "source": [
    "测试的时候不能用测试的数据集去算均值和方差，而是用训练的时候算出的移动平均均值和方差去代替"
   ]
  },
  {
   "cell_type": "markdown",
   "metadata": {},
   "source": [
    "**** "
   ]
  },
  {
   "cell_type": "markdown",
   "metadata": {},
   "source": [
    "4、对数据进行一些必要的预处理"
   ]
  },
  {
   "cell_type": "code",
   "execution_count": 16,
   "metadata": {
    "execution": {
     "iopub.execute_input": "2021-09-28T07:33:00.973662Z",
     "iopub.status.busy": "2021-09-28T07:33:00.972890Z",
     "iopub.status.idle": "2021-09-28T07:33:00.994668Z",
     "shell.execute_reply": "2021-09-28T07:33:00.993638Z",
     "shell.execute_reply.started": "2021-09-28T07:33:00.973618Z"
    }
   },
   "outputs": [
    {
     "data": {
      "text/plain": [
       "torch.Size([784])"
      ]
     },
     "execution_count": 16,
     "metadata": {},
     "output_type": "execute_result"
    }
   ],
   "source": [
    "x = np.array(train_set[0][0], dtype='float32') / 255\n",
    "x = (x - 0.5) / 0.5 # 数据预处理，标准化\n",
    "x = x.reshape((-1,)) # 拉平\n",
    "x = torch.from_numpy(x)\n",
    "x.shape"
   ]
  },
  {
   "cell_type": "markdown",
   "metadata": {},
   "source": [
    "一列列数据进行处理比较麻烦，可以做个函数进行处理，这里使用mnist.MNIST自带的方法"
   ]
  },
  {
   "cell_type": "code",
   "execution_count": 17,
   "metadata": {
    "execution": {
     "iopub.execute_input": "2021-09-28T07:33:00.995841Z",
     "iopub.status.busy": "2021-09-28T07:33:00.995624Z",
     "iopub.status.idle": "2021-09-28T07:33:01.046169Z",
     "shell.execute_reply": "2021-09-28T07:33:01.045141Z",
     "shell.execute_reply.started": "2021-09-28T07:33:00.995816Z"
    }
   },
   "outputs": [],
   "source": [
    "def data_tf(x):\n",
    "    x = np.array(x, dtype='float32') / 255\n",
    "    x = (x - 0.5) / 0.5 # 数据预处理，标准化\n",
    "    x = x.reshape((-1,)) # 拉平\n",
    "    x = torch.from_numpy(x)\n",
    "    return x\n",
    "train_set = mnist.MNIST('./data', train=True, transform=data_tf, download=True) # 重新载入数据集，申明定义的数据变换\n",
    "test_set = mnist.MNIST('./data', train=False, transform=data_tf, download=True)"
   ]
  },
  {
   "cell_type": "markdown",
   "metadata": {},
   "source": [
    "**当数据量很大时，内存往往不足，使用Dataloader迭代处理数据**\n",
    "DataLoader本质上就是一个iterable（跟python的内置类型list等一样），并利用多进程来加速batch data的处理，使用yield来使用有限的内存"
   ]
  },
  {
   "cell_type": "code",
   "execution_count": 18,
   "metadata": {
    "execution": {
     "iopub.execute_input": "2021-09-28T07:33:01.047998Z",
     "iopub.status.busy": "2021-09-28T07:33:01.047616Z",
     "iopub.status.idle": "2021-09-28T07:33:01.053096Z",
     "shell.execute_reply": "2021-09-28T07:33:01.051915Z",
     "shell.execute_reply.started": "2021-09-28T07:33:01.047954Z"
    }
   },
   "outputs": [],
   "source": [
    "from torch.utils.data import DataLoader\n",
    "train_data = DataLoader(train_set, batch_size=64, shuffle=True)\n",
    "test_data = DataLoader(test_set, batch_size=128, shuffle=False)"
   ]
  },
  {
   "cell_type": "markdown",
   "metadata": {},
   "source": [
    "安排好数据加载处理环节后，开始设计训练环节"
   ]
  },
  {
   "cell_type": "code",
   "execution_count": 19,
   "metadata": {
    "execution": {
     "iopub.execute_input": "2021-09-28T07:33:01.054893Z",
     "iopub.status.busy": "2021-09-28T07:33:01.054572Z",
     "iopub.status.idle": "2021-09-28T07:33:01.068430Z",
     "shell.execute_reply": "2021-09-28T07:33:01.067807Z",
     "shell.execute_reply.started": "2021-09-28T07:33:01.054853Z"
    }
   },
   "outputs": [],
   "source": [
    "class multi_network(nn.Module):\n",
    "    def __init__(self):\n",
    "        super(multi_network, self).__init__()\n",
    "#         网络设计\n",
    "# \n",
    "#       全连接层  类似于100个线性回归模型\n",
    "        self.layer1 = nn.Linear(784, 100)\n",
    "    \n",
    "#  激活函数\n",
    "\n",
    "# ======================================================================\n",
    "# 模仿大脑神经元结构，输入的数据经过计算得到结果，接着经过激活函数（兴奋或抑制），再传给下一层神经元 \n",
    "# 常用的激活函数有sigmoid、tanh、ReLU，其中最普遍最多使用的是ReLU，这里也选择使用ReLU\n",
    "# ======================================================================\n",
    "        self.relu = nn.ReLU(True)\n",
    "\n",
    "        self.layer2 = nn.Linear(100, 10)\n",
    "\n",
    "# 批处理参数随机初始化，训练过程会逐渐变化\n",
    "\n",
    "# torch.nn.init 内置了一张叫Xavier的参数初始化方法，\n",
    "# 方法来源于 2010 年的一篇论文 Understanding the difficulty of training deep feedforward neural networks，\n",
    "# 其通过数学的推到，证明了这种初始化方式可以使得每一层的输出方差是尽可能相等的\n",
    "        self.gamma = nn.init.xavier_uniform(torch.randn(100).reshape(1,100),gain=1).to(device=torch.device('cuda' if torch.cuda.is_available() else 'cpu'))\n",
    "        self.beta = nn.init.xavier_uniform(torch.randn(100).reshape(1,100),gain=1).to(device=torch.device('cuda' if torch.cuda.is_available() else 'cpu'))\n",
    "\n",
    "#         self.gamma = nn.Parameter(torch.randn(100))\n",
    "#         self.beta = nn.Parameter(torch.randn(100))\n",
    "\n",
    "#  移动均值和方差设为0\n",
    "        self.moving_mean = Variable(torch.zeros(100))\n",
    "        self.moving_var = Variable(torch.zeros(100))\n",
    "        \n",
    "    def forward(self, x, is_train=True):\n",
    "        x = self.layer1(x)\n",
    "        x = batch_norm_1d(x, self.gamma, self.beta, is_train, self.moving_mean, self.moving_var)\n",
    "        x = self.relu(x)\n",
    "        x = self.layer2(x)\n",
    "        return x"
   ]
  },
  {
   "cell_type": "code",
   "execution_count": 20,
   "metadata": {
    "execution": {
     "iopub.execute_input": "2021-09-28T07:33:01.070100Z",
     "iopub.status.busy": "2021-09-28T07:33:01.069620Z",
     "iopub.status.idle": "2021-09-28T07:33:01.092787Z",
     "shell.execute_reply": "2021-09-28T07:33:01.091825Z",
     "shell.execute_reply.started": "2021-09-28T07:33:01.070059Z"
    }
   },
   "outputs": [
    {
     "name": "stderr",
     "output_type": "stream",
     "text": [
      "D:\\Anaconda3\\lib\\site-packages\\ipykernel_launcher.py:24: UserWarning: nn.init.xavier_uniform is now deprecated in favor of nn.init.xavier_uniform_.\n",
      "D:\\Anaconda3\\lib\\site-packages\\ipykernel_launcher.py:25: UserWarning: nn.init.xavier_uniform is now deprecated in favor of nn.init.xavier_uniform_.\n"
     ]
    }
   ],
   "source": [
    "net = multi_network()"
   ]
  },
  {
   "cell_type": "markdown",
   "metadata": {},
   "source": [
    "**loss 函数**\n",
    "\n",
    "损失函数表示当前输出和理想输出的差距，越小越好，具体的损失函数多种多样\n",
    "\n",
    "pytorch提供了很多损失函数https://pytorch.org/docs/0.3.0/nn.html#loss-functions\n",
    "\n",
    "我们选取最常用的交叉熵"
   ]
  },
  {
   "cell_type": "markdown",
   "metadata": {},
   "source": [
    "**优化算法**\n",
    "\n",
    "优化算法参考最优化理论一课知识\n",
    "\n",
    "常见的优化算法有：\n",
    "\n",
    "GSD\n",
    "\n",
    "动量法\n",
    "\n",
    "Adagrad\n",
    "\n",
    "RMSProp\n",
    "\n",
    "Adadelta\n",
    "\n",
    "Adam"
   ]
  },
  {
   "cell_type": "code",
   "execution_count": 21,
   "metadata": {
    "execution": {
     "iopub.execute_input": "2021-09-28T07:33:01.094576Z",
     "iopub.status.busy": "2021-09-28T07:33:01.094252Z",
     "iopub.status.idle": "2021-09-28T07:33:01.100275Z",
     "shell.execute_reply": "2021-09-28T07:33:01.099272Z",
     "shell.execute_reply.started": "2021-09-28T07:33:01.094534Z"
    }
   },
   "outputs": [],
   "source": [
    "# 使用交叉熵 \n",
    "criterion = nn.CrossEntropyLoss()\n",
    "\n",
    "# 使用随机梯度下降，学习率 0.1\n",
    "optimizer = torch.optim.SGD(net.parameters(), 1e-1) "
   ]
  },
  {
   "cell_type": "code",
   "execution_count": 22,
   "metadata": {
    "execution": {
     "iopub.execute_input": "2021-09-28T07:33:01.101764Z",
     "iopub.status.busy": "2021-09-28T07:33:01.101552Z",
     "iopub.status.idle": "2021-09-28T07:33:01.121907Z",
     "shell.execute_reply": "2021-09-28T07:33:01.120998Z",
     "shell.execute_reply.started": "2021-09-28T07:33:01.101741Z"
    }
   },
   "outputs": [],
   "source": [
    "# 编写训练函数\n",
    "from datetime import datetime\n",
    "\n",
    "# 计算准确率\n",
    "def get_acc(output, label):\n",
    "    total = output.shape[0]\n",
    "    _, pred_label = output.max(1)\n",
    "    num_correct = (pred_label == label).sum().data\n",
    "    return num_correct / total\n",
    "\n",
    "\n",
    "def train(net, train_data, valid_data, num_epochs, optimizer, criterion):\n",
    "    \n",
    "#     如果可以使用gpu，则使用gpu\n",
    "    if torch.cuda.is_available():\n",
    "        net = net.cuda()\n",
    "#     单轮训练开始时间\n",
    "    prev_time = datetime.now()\n",
    "    for epoch in range(num_epochs):\n",
    "        train_loss = 0\n",
    "        train_acc = 0\n",
    "        net = net.train()\n",
    "        for im, label in train_data:\n",
    "            if torch.cuda.is_available():\n",
    "                im = Variable(im.cuda())  # (bs, 3, h, w)\n",
    "                label = Variable(label.cuda())  # (bs, h, w)\n",
    "            else:\n",
    "                im = Variable(im)\n",
    "                label = Variable(label)\n",
    "            # forward\n",
    "            output = net(im)\n",
    "            loss = criterion(output, label)\n",
    "            # backward\n",
    "            optimizer.zero_grad()\n",
    "            loss.backward()\n",
    "            optimizer.step()\n",
    "\n",
    "            train_loss += loss.data\n",
    "            train_acc += get_acc(output, label)\n",
    "\n",
    "#         单轮训练结束时间\n",
    "        cur_time = datetime.now()\n",
    "        \n",
    "        h, remainder = divmod((cur_time - prev_time).seconds, 3600)\n",
    "        m, s = divmod(remainder, 60)\n",
    "        time_str = \"Time %02d:%02d:%02d\" % (h, m, s)\n",
    "        \n",
    "        if valid_data is not None:\n",
    "            valid_loss = 0\n",
    "            valid_acc = 0\n",
    "            net = net.eval()\n",
    "            for im, label in valid_data:\n",
    "                if torch.cuda.is_available():\n",
    "                    im = Variable(im.cuda(), volatile=True)\n",
    "                    label = Variable(label.cuda(), volatile=True)\n",
    "                else:\n",
    "                    im = Variable(im, volatile=True)\n",
    "                    label = Variable(label, volatile=True)\n",
    "                output = net(im)\n",
    "                loss = criterion(output, label)\n",
    "                valid_loss += loss.data\n",
    "                valid_acc += get_acc(output, label)\n",
    "            epoch_str = (\n",
    "                \"Epoch %d. Train Loss: %f, Train Acc: %f, Valid Loss: %f, Valid Acc: %f, \"\n",
    "                % (epoch, train_loss / len(train_data),\n",
    "                   train_acc / len(train_data), valid_loss / len(valid_data),\n",
    "                   valid_acc / len(valid_data)))\n",
    "        else:\n",
    "            epoch_str = (\"Epoch %d. Train Loss: %f, Train Acc: %f, \" %\n",
    "                         (epoch, train_loss / len(train_data),\n",
    "                          train_acc / len(train_data)))\n",
    "        prev_time = cur_time\n",
    "        print(epoch_str + time_str)\n"
   ]
  },
  {
   "cell_type": "code",
   "execution_count": 23,
   "metadata": {
    "execution": {
     "iopub.execute_input": "2021-09-28T07:33:01.123543Z",
     "iopub.status.busy": "2021-09-28T07:33:01.123272Z",
     "iopub.status.idle": "2021-09-28T07:34:21.289441Z",
     "shell.execute_reply": "2021-09-28T07:34:21.288477Z",
     "shell.execute_reply.started": "2021-09-28T07:33:01.123502Z"
    }
   },
   "outputs": [
    {
     "name": "stderr",
     "output_type": "stream",
     "text": [
      "D:\\Anaconda3\\lib\\site-packages\\ipykernel_launcher.py:57: UserWarning: volatile was removed and now has no effect. Use `with torch.no_grad():` instead.\n",
      "D:\\Anaconda3\\lib\\site-packages\\ipykernel_launcher.py:58: UserWarning: volatile was removed and now has no effect. Use `with torch.no_grad():` instead.\n"
     ]
    },
    {
     "name": "stdout",
     "output_type": "stream",
     "text": [
      "Epoch 0. Train Loss: 1.111866, Train Acc: 0.799857, Valid Loss: 0.609479, Valid Acc: 0.900712, Time 00:00:06\n",
      "Epoch 1. Train Loss: 0.541434, Train Acc: 0.893374, Valid Loss: 0.422503, Valid Acc: 0.912480, Time 00:00:07\n",
      "Epoch 2. Train Loss: 0.425789, Train Acc: 0.904767, Valid Loss: 0.354653, Valid Acc: 0.919403, Time 00:00:08\n",
      "Epoch 3. Train Loss: 0.372642, Train Acc: 0.911281, Valid Loss: 0.316241, Valid Acc: 0.925040, Time 00:00:08\n",
      "Epoch 4. Train Loss: 0.340007, Train Acc: 0.917511, Valid Loss: 0.294168, Valid Acc: 0.928204, Time 00:00:08\n",
      "Epoch 5. Train Loss: 0.318022, Train Acc: 0.920809, Valid Loss: 0.277307, Valid Acc: 0.930182, Time 00:00:09\n",
      "Epoch 6. Train Loss: 0.301128, Train Acc: 0.924390, Valid Loss: 0.261797, Valid Acc: 0.932852, Time 00:00:09\n",
      "Epoch 7. Train Loss: 0.286174, Train Acc: 0.928388, Valid Loss: 0.255951, Valid Acc: 0.934039, Time 00:00:09\n",
      "Epoch 8. Train Loss: 0.273180, Train Acc: 0.931220, Valid Loss: 0.243764, Valid Acc: 0.936214, Time 00:00:09\n",
      "Epoch 9. Train Loss: 0.264324, Train Acc: 0.932869, Valid Loss: 0.238381, Valid Acc: 0.938390, Time 00:00:09\n"
     ]
    }
   ],
   "source": [
    "train(net, train_data, test_data, 10, optimizer, criterion)"
   ]
  },
  {
   "cell_type": "code",
   "execution_count": 24,
   "metadata": {
    "execution": {
     "iopub.execute_input": "2021-09-28T07:34:21.290916Z",
     "iopub.status.busy": "2021-09-28T07:34:21.290594Z",
     "iopub.status.idle": "2021-09-28T07:34:21.311043Z",
     "shell.execute_reply": "2021-09-28T07:34:21.310373Z",
     "shell.execute_reply.started": "2021-09-28T07:34:21.290886Z"
    }
   },
   "outputs": [
    {
     "name": "stdout",
     "output_type": "stream",
     "text": [
      "tensor([ 2.0328,  3.9691,  1.0366, -0.7004, -0.6154,  4.4201,  0.7199,  0.0683,\n",
      "         5.8753, -0.0582], grad_fn=<SliceBackward>)\n"
     ]
    }
   ],
   "source": [
    "# 打出 moving_mean 的前 10 项\n",
    "print(net.moving_mean[:10])"
   ]
  },
  {
   "cell_type": "code",
   "execution_count": null,
   "metadata": {},
   "outputs": [],
   "source": []
  }
 ],
 "metadata": {
  "kernelspec": {
   "display_name": "Python 3",
   "language": "python",
   "name": "python3"
  },
  "language_info": {
   "codemirror_mode": {
    "name": "ipython",
    "version": 3
   },
   "file_extension": ".py",
   "mimetype": "text/x-python",
   "name": "python",
   "nbconvert_exporter": "python",
   "pygments_lexer": "ipython3",
   "version": "3.6.5"
  }
 },
 "nbformat": 4,
 "nbformat_minor": 4
}
